{
 "cells": [
  {
   "cell_type": "code",
   "execution_count": 1,
   "metadata": {},
   "outputs": [],
   "source": [
    "import matplotlib.pyplot as plt\n",
    "import numpy as np\n",
    "import csv\n",
    "import pandas as pd\n",
    "from sklearn.model_selection import train_test_split\n",
    "from sklearn.neural_network import MLPRegressor\n",
    "from sklearn.datasets import make_regression"
   ]
  },
  {
   "cell_type": "code",
   "execution_count": 2,
   "metadata": {},
   "outputs": [],
   "source": [
    "df = pd.read_csv(\"California_English.csv\") "
   ]
  },
  {
   "cell_type": "code",
   "execution_count": 3,
   "metadata": {},
   "outputs": [
    {
     "name": "stdout",
     "output_type": "stream",
     "text": [
      "      Speak only english  % Hispanic  % Hispanic Population Foreign Born  \\\n",
      "0              38.169643   15.201098                           40.902778   \n",
      "1               6.196438   90.134042                           44.391700   \n",
      "2               6.065441   78.886346                           44.052036   \n",
      "3               4.153917   78.348027                           47.439670   \n",
      "4               6.618115   50.289886                           56.013926   \n",
      "...                  ...         ...                                 ...   \n",
      "1099            4.313725   53.278290                           44.758432   \n",
      "1100           28.183161   25.277048                           39.862404   \n",
      "1101           34.197531   13.841411                           34.935522   \n",
      "1102           52.635003    6.772054                           28.739003   \n",
      "1103           54.270619   13.403958                           26.581957   \n",
      "\n",
      "      Hispanic Median Household Income  \n",
      "0                               68.816  \n",
      "1                               46.376  \n",
      "2                               43.857  \n",
      "3                               45.343  \n",
      "4                               44.875  \n",
      "...                                ...  \n",
      "1099                            28.935  \n",
      "1100                            53.664  \n",
      "1101                            57.002  \n",
      "1102                            37.419  \n",
      "1103                            58.924  \n",
      "\n",
      "[1104 rows x 4 columns]\n"
     ]
    }
   ],
   "source": [
    "print(df)"
   ]
  },
  {
   "cell_type": "code",
   "execution_count": 4,
   "metadata": {},
   "outputs": [],
   "source": [
    "x=df.drop([\"Speak only english\"],axis=1).values\n",
    "y=df[\"Speak only english\"].values"
   ]
  },
  {
   "cell_type": "code",
   "execution_count": 5,
   "metadata": {},
   "outputs": [
    {
     "name": "stdout",
     "output_type": "stream",
     "text": [
      "[38.16964286  6.19643766  6.06544085 ... 34.19753086 52.63500325\n",
      " 54.27061931]\n"
     ]
    }
   ],
   "source": [
    "print(y)"
   ]
  },
  {
   "cell_type": "code",
   "execution_count": 6,
   "metadata": {},
   "outputs": [],
   "source": [
    "x_train,x_test,y_train,y_test,=train_test_split(x,y,test_size=0.2,random_state=0)"
   ]
  },
  {
   "cell_type": "code",
   "execution_count": 7,
   "metadata": {},
   "outputs": [
    {
     "name": "stderr",
     "output_type": "stream",
     "text": [
      "c:\\users\\geord\\appdata\\local\\programs\\python\\python38-32\\lib\\site-packages\\sklearn\\neural_network\\_multilayer_perceptron.py:614: ConvergenceWarning: Stochastic Optimizer: Maximum iterations (500) reached and the optimization hasn't converged yet.\n",
      "  warnings.warn(\n"
     ]
    }
   ],
   "source": [
    "regr = MLPRegressor(random_state=1, max_iter=500).fit(x_train, y_train)"
   ]
  },
  {
   "cell_type": "code",
   "execution_count": 8,
   "metadata": {},
   "outputs": [
    {
     "name": "stdout",
     "output_type": "stream",
     "text": [
      "[25.29868076 19.83922092 46.63091982 31.00598339 44.9780877  22.96243764\n",
      " 44.35514024 19.11367503  7.15239141 29.34685169 51.39337238  7.37836837\n",
      " 48.60268309 46.15960543 36.7772681   7.19268353 19.27734957  6.38255842\n",
      " 35.71615743 16.45863931  6.14950361 45.52470617 59.53279429 53.91850718\n",
      " 41.04464445 31.69487383 38.39008024 13.29803092 39.34289432 17.07788874\n",
      " 27.63936691 43.95072146 50.36982775 15.52017435 60.15535393 39.57461365\n",
      " 46.25816236 17.61438399 45.12595762 16.94087329 47.91018557 41.0904571\n",
      " 19.56437275 63.69143933 45.60391739 52.76803119 32.26108815 36.24666898\n",
      " 44.40407302 43.13112347 34.23310712 40.66420555 34.90468177 33.40251413\n",
      " 53.86298612 40.38278604 24.13830936 17.99093153 15.11997244 53.6044383\n",
      " 44.00408163 34.93061841 49.2857912  39.6144782  48.43993214 46.512247\n",
      " 28.00540785 59.65033551 15.17807499 56.09023774 47.2525031  47.73055227\n",
      "  7.22203902 12.06859627 49.29119491 12.01694559 42.07574055 52.49217547\n",
      "  7.48940738 49.06510612 16.95643547 59.9380735  27.79784049 27.35329642\n",
      " 73.8641121  35.53229807 28.53810803  6.98622229 11.97938588 56.22284777\n",
      " 29.01497497 28.93653125 35.74983926 56.38048266 12.55127116  7.64006643\n",
      " 14.18425511 24.91548514 54.08865165 24.67291585 51.5612595  36.28865795\n",
      " 48.74937717 35.1915891  39.267523   51.12455422 43.55884784 21.89452021\n",
      " 28.61004717 44.48021584 40.7825529  19.10165531 47.14419608 32.15485044\n",
      " 35.76518756 37.14040758 55.03916799 61.89186246 35.5778148  20.11978245\n",
      " 14.01366888 65.70458535 21.48840697 24.97042128 34.62031576 81.6192685\n",
      " 13.27532766 12.43814333 12.69970294 26.53959921 46.3842235  62.55046088\n",
      " 32.42882652  6.09870588 15.81000182 30.7782587  18.20828178 29.79840489\n",
      " 39.91639283  3.93068628 50.62010781  0.50636471 50.17535249 28.94580112\n",
      " 22.12031958 25.13123712 47.96761879 10.64137728 28.21112866 15.41084594\n",
      " 22.17364628 47.83087734 52.59268518 23.68244886 11.41868607 37.7061621\n",
      " 24.79002501 42.8308152  29.12839795 18.91447729 10.71152336 43.0771832\n",
      " 49.51793155 44.08712656 46.41416576 18.86842961 51.95434795 50.48657248\n",
      " 24.12388942 42.81968188 42.81807438 12.2257676  15.91593498 13.24228621\n",
      " 40.33275179 41.61891589 30.46065141 71.34248964 13.88168558 53.20074887\n",
      " 51.4936727  36.14203435 28.26152258 10.596429   14.89141494 61.73644239\n",
      " 56.58847402  9.76273835 13.13140515  9.62635659 16.28305937 23.99546563\n",
      "  9.54765588 56.94927343 44.11368946 47.38662296 54.99468273 27.38589312\n",
      " 33.30431053 49.14268709 17.85471601 34.08596716 41.82644554 49.64771217\n",
      " 15.5065298  45.93602807 24.26084672 41.17662577 22.17937027 32.31677235\n",
      " 57.99511057 51.31131475 59.57274343 22.54798474 19.32796388 21.85658777\n",
      " 28.3306427  34.27671846 43.85707449 25.39996875 45.8180419 ]\n"
     ]
    }
   ],
   "source": [
    "y_pred=regr.predict(x_test)\n",
    "print(y_pred)"
   ]
  },
  {
   "cell_type": "code",
   "execution_count": 9,
   "metadata": {},
   "outputs": [
    {
     "data": {
      "text/plain": [
       "0.8329512051192748"
      ]
     },
     "execution_count": 9,
     "metadata": {},
     "output_type": "execute_result"
    }
   ],
   "source": [
    "from sklearn.metrics import r2_score\n",
    "r2_score(y_test,y_pred)"
   ]
  },
  {
   "cell_type": "code",
   "execution_count": 10,
   "metadata": {},
   "outputs": [
    {
     "data": {
      "text/plain": [
       "Text(0, 0.5, 'predicted')"
      ]
     },
     "execution_count": 10,
     "metadata": {},
     "output_type": "execute_result"
    },
    {
     "data": {
      "image/png": "[encoded data removed]",
      "text/plain": [
       "<Figure size 432x288 with 1 Axes>"
      ]
     },
     "metadata": {
      "needs_background": "light"
     },
     "output_type": "display_data"
    }
   ],
   "source": [
    "plt.scatter(y_test,y_pred,s=1)\n",
    "plt.xlabel(\"actual\")\n",
    "plt.ylabel(\"predicted\")"
   ]
  },
  {
   "cell_type": "code",
   "execution_count": 24,
   "metadata": {},
   "outputs": [
    {
     "data": {
      "text/plain": [
       "array([14.85109719])"
      ]
     },
     "execution_count": 24,
     "metadata": {},
     "output_type": "execute_result"
    }
   ],
   "source": [
    "## Most Hispanic Zip Code in Wisconsin where 13.8% speak only english at home\n",
    "## 53204 Near South Side\n",
    "hs=70.3\n",
    "fb=38\n",
    "mi=33.120\n",
    "\n",
    "\n",
    "regr.predict([[hs,fb,mi]])"
   ]
  },
  {
   "cell_type": "code",
   "execution_count": 25,
   "metadata": {},
   "outputs": [
    {
     "data": {
      "text/plain": [
       "array([44.53983924])"
      ]
     },
     "execution_count": 25,
     "metadata": {},
     "output_type": "execute_result"
    }
   ],
   "source": [
    "## My home zip code where 56% speak only english at home\n",
    "## 53172 South Milwaukee\n",
    "hs=12.5\n",
    "fb=22.7\n",
    "mi=44.435\n",
    "\n",
    "\n",
    "regr.predict([[hs,fb,mi]])"
   ]
  },
  {
   "cell_type": "code",
   "execution_count": 26,
   "metadata": {},
   "outputs": [
    {
     "data": {
      "text/plain": [
       "array([58.59627852])"
      ]
     },
     "execution_count": 26,
     "metadata": {},
     "output_type": "execute_result"
    }
   ],
   "source": [
    "## One of the wealthiest zip codes in Wisconsin where 72.5% speak only enlgish at home\n",
    "## 53217 Whitefish bay area\n",
    "hs=5.2\n",
    "fb=22.1\n",
    "mi=133.246\n",
    "\n",
    "\n",
    "regr.predict([[hs,fb,mi]])"
   ]
  },
  {
   "cell_type": "code",
   "execution_count": null,
   "metadata": {},
   "outputs": [],
   "source": []
  }
 ],
 "metadata": {
  "kernelspec": {
   "display_name": "Python 3",
   "language": "python",
   "name": "python3"
  },
  "language_info": {
   "codemirror_mode": {
    "name": "ipython",
    "version": 3
   },
   "file_extension": ".py",
   "mimetype": "text/x-python",
   "name": "python",
   "nbconvert_exporter": "python",
   "pygments_lexer": "ipython3",
   "version": "3.8.5"
  }
 },
 "nbformat": 4,
 "nbformat_minor": 4
}
